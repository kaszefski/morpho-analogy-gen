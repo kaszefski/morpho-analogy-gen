{
 "cells": [
  {
   "cell_type": "markdown",
   "id": "2adbc4a8",
   "metadata": {},
   "source": [
    "# RESTART KERNEL BEFORE PROCEEDING\n",
    "# ONLY RUN THIS ONE AFTER THE FIRST TIME"
   ]
  },
  {
   "cell_type": "code",
   "execution_count": 2,
   "id": "189efc04",
   "metadata": {},
   "outputs": [],
   "source": [
    "from siganalogies import dataset_factory_2019, SIG2019_SERIALIZATION_PATH, SIG2019_DATASET_PATH, SERIALIZATION\n",
    "from siganalogies import dataset_factory_2016, SIG2016_SERIALIZATION_PATH, SIG2016_DATASET_PATH, SERIALIZATION\n",
    "import os\n",
    "\n",
    "#languages = \"english\", \"finnish\", \"french\", \"german\", \"portuguese\", \"spanish\"\n",
    "LANGUAGE='russian'\n",
    "\n",
    "try:\n",
    "    os.mkdir(LANGUAGE)\n",
    "except:\n",
    "    pass\n",
    "\n",
    "dataset_2019 = dataset_factory_2019(\n",
    "    language=LANGUAGE,\n",
    "    mode=\"train-high\",\n",
    "    dataset_pkl_folder=SIG2019_SERIALIZATION_PATH,\n",
    "    dataset_folder=SIG2019_DATASET_PATH,\n",
    "    force_rebuild=True,\n",
    "    serialization=SERIALIZATION)\n",
    "\n",
    "dataset_2016 = dataset_factory(\n",
    "    language=LANGUAGE,\n",
    "    mode=\"train\",\n",
    "    word_encoding=\"none\",\n",
    "    dataset_pkl_folder=SIG2016_SERIALIZATION_PATH,\n",
    "    dataset_folder=SIG2016_DATASET_PATH,\n",
    "    force_rebuild=False,\n",
    "    serialization=SERIALIZATION\n",
    "\n",
    "with open(LANGUAGE+'/'+LANGUAGE+\"_analogies_solutions.txt\", 'w', encoding='utf-8') as f:\n",
    "    for x, y in dataset.analogies:\n",
    "        f.write(dataset.raw_data[x][2]+'\\t'+dataset.raw_data[x][0]+'\\t'+dataset.raw_data[y][2]+'\\t'+dataset.raw_data[y][0]+'\\n')"
   ]
  }
 ],
 "metadata": {
  "kernelspec": {
   "display_name": "Python 3",
   "language": "python",
   "name": "python3"
  },
  "language_info": {
   "codemirror_mode": {
    "name": "ipython",
    "version": 3
   },
   "file_extension": ".py",
   "mimetype": "text/x-python",
   "name": "python",
   "nbconvert_exporter": "python",
   "pygments_lexer": "ipython3",
   "version": "3.8.8"
  }
 },
 "nbformat": 4,
 "nbformat_minor": 5
}
